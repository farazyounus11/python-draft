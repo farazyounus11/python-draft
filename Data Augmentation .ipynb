{
 "cells": [
  {
   "cell_type": "code",
   "execution_count": 22,
   "id": "f583632a-547f-43cd-a9d2-66b9ddca1f09",
   "metadata": {},
   "outputs": [
    {
     "data": {
      "image/png": "[encoded data removed]",
      "text/plain": [
       "<Figure size 1000x300 with 10 Axes>"
      ]
     },
     "metadata": {},
     "output_type": "display_data"
    },
    {
     "data": {
      "image/png": "[encoded data removed]",
      "text/plain": [
       "<Figure size 1000x300 with 10 Axes>"
      ]
     },
     "metadata": {},
     "output_type": "display_data"
    }
   ],
   "source": [
    "from sklearn.datasets import load_digits\n",
    "import matplotlib.pyplot as plt\n",
    "import numpy as np\n",
    "\n",
    "# Load digits dataset\n",
    "digits = load_digits()\n",
    "\n",
    "# Show samples of the digits before normalization\n",
    "fig, axes = plt.subplots(1, 10, figsize=(10, 3))\n",
    "for i, ax in enumerate(axes.flat):\n",
    "    ax.imshow(digits.images[i], cmap='gray')\n",
    "    ax.axis('off')\n",
    "plt.suptitle('Sample Digits from Dataset (Before Normalization)')\n",
    "plt.show()\n",
    "\n",
    "# Normalize the pixel values of the digits\n",
    "normalized_digits = (digits.data - np.min(digits.data)) / (np.max(digits.data) - np.min(digits.data))\n",
    "\n",
    "# Reshape the normalized digits back to images\n",
    "normalized_images = normalized_digits.reshape(-1, 8, 8)\n",
    "\n",
    "# Show samples of the digits after normalization\n",
    "fig, axes = plt.subplots(1, 10, figsize=(10, 3))\n",
    "for i, ax in enumerate(axes.flat):\n",
    "    ax.imshow(normalized_images[i], cmap='gray')\n",
    "    ax.axis('off')\n",
    "plt.suptitle('Sample Digits from Dataset (After Normalization)')\n",
    "plt.show()\n"
   ]
  },
  {
   "cell_type": "code",
   "execution_count": 32,
   "id": "754257c8-7678-4093-815f-cd5380c4e32c",
   "metadata": {},
   "outputs": [],
   "source": [
    "from scipy.ndimage import rotate, shift\n",
    "from sklearn.datasets import load_digits\n",
    "import numpy as np\n",
    "\n",
    "# Load the digits dataset and normalize it\n",
    "digits = load_digits()\n",
    "normalized_digits = (digits.data - np.min(digits.data)) / (np.max(digits.data) - np.min(digits.data))\n",
    "\n",
    "def augment_data_normalized(images, labels):\n",
    "    augmented_images = []\n",
    "    augmented_labels = []\n",
    "    for i, image in enumerate(images):\n",
    "        # Original shape for reshaping\n",
    "        original_shape = (8, 8)  # Digits images are 8x8\n",
    "        \n",
    "        # Reshape to 2D\n",
    "        image_2d = image.reshape(original_shape)\n",
    "        \n",
    "        # Rotate\n",
    "        rotated_image = rotate(image_2d, angle=15, reshape=False)\n",
    "        augmented_images.append(rotated_image.flatten())\n",
    "        augmented_labels.append(labels[i])\n",
    "        \n",
    "        # Flip horizontally\n",
    "        flipped_image = np.fliplr(image_2d)\n",
    "        augmented_images.append(flipped_image.flatten())\n",
    "        augmented_labels.append(labels[i])\n",
    "        \n",
    "        # Shift\n",
    "        shifted_image = shift(image_2d, shift=(5, 5), mode='nearest')\n",
    "        augmented_images.append(shifted_image.flatten())\n",
    "        augmented_labels.append(labels[i])\n",
    "        \n",
    "        # Add random noise\n",
    "        noisy_image = np.clip(image_2d + np.random.normal(loc=0.0, scale=0.1, size=original_shape), 0, 1)\n",
    "        augmented_images.append(noisy_image.flatten())\n",
    "        augmented_labels.append(labels[i])\n",
    "        \n",
    "    return np.array(augmented_images), np.array(augmented_labels)\n",
    "\n",
    "# Augment the normalized data\n",
    "augmented_images, augmented_labels = augment_data_normalized(normalized_digits, digits.target)\n",
    "\n",
    "# Note: The augmented data is already flattened and normalized\n"
   ]
  },
  {
   "cell_type": "code",
   "execution_count": 33,
   "id": "b1db2101-180a-4679-b51e-ea676388d00b",
   "metadata": {},
   "outputs": [
    {
     "name": "stdout",
     "output_type": "stream",
     "text": [
      "Logistic Regression Accuracy: 0.7830319888734353\n",
      "KNN Accuracy: 0.8456189151599444\n"
     ]
    }
   ],
   "source": [
    "from sklearn.model_selection import train_test_split\n",
    "from sklearn.linear_model import LogisticRegression\n",
    "from sklearn.neighbors import KNeighborsClassifier\n",
    "from sklearn.metrics import accuracy_score\n",
    "\n",
    "# Split the augmented data into training and testing sets\n",
    "X_train, X_test, y_train, y_test = train_test_split(augmented_images, augmented_labels, test_size=0.2, random_state=42)\n",
    "\n",
    "# Train Logistic Regression\n",
    "log_reg = LogisticRegression(max_iter=4000, random_state=42)\n",
    "log_reg.fit(X_train, y_train)\n",
    "\n",
    "# Train K-Nearest Neighbors (KNN)\n",
    "knn = KNeighborsClassifier(n_neighbors=4)\n",
    "knn.fit(X_train, y_train)\n",
    "\n",
    "# Predict and evaluate Logistic Regression\n",
    "y_pred_log_reg = log_reg.predict(X_test)\n",
    "accuracy_log_reg = accuracy_score(y_test, y_pred_log_reg)\n",
    "\n",
    "# Predict and evaluate KNN\n",
    "y_pred_knn = knn.predict(X_test)\n",
    "accuracy_knn = accuracy_score(y_test, y_pred_knn)\n",
    "\n",
    "print(f\"Logistic Regression Accuracy: {accuracy_log_reg}\")\n",
    "print(f\"KNN Accuracy: {accuracy_knn}\")\n"
   ]
  },
  {
   "cell_type": "code",
   "execution_count": 38,
   "id": "d99696f3-9fa0-4594-891b-ac200d1c1c76",
   "metadata": {},
   "outputs": [
    {
     "name": "stdout",
     "output_type": "stream",
     "text": [
      "Logistic Regression Accuracy: 0.7830319888734353\n",
      "KNN Accuracy: 0.8456189151599444\n",
      "XGBoost Accuracy: 0.8643949930458971\n",
      "CatBoost Accuracy: 0.8630041724617524\n"
     ]
    }
   ],
   "source": [
    "from sklearn.model_selection import train_test_split\n",
    "from sklearn.linear_model import LogisticRegression\n",
    "from sklearn.neighbors import KNeighborsClassifier\n",
    "from sklearn.metrics import accuracy_score\n",
    "import xgboost as xgb\n",
    "from catboost import CatBoostClassifier\n",
    "\n",
    "# Split the augmented data into training and testing sets\n",
    "X_train, X_test, y_train, y_test = train_test_split(augmented_images, augmented_labels, test_size=0.2, random_state=42)\n",
    "\n",
    "# Train Logistic Regression\n",
    "log_reg = LogisticRegression(max_iter=4000, random_state=42)\n",
    "log_reg.fit(X_train, y_train)\n",
    "\n",
    "# Train K-Nearest Neighbors (KNN)\n",
    "knn = KNeighborsClassifier(n_neighbors=4)\n",
    "knn.fit(X_train, y_train)\n",
    "\n",
    "# Train XGBoost\n",
    "xgb_model = xgb.XGBClassifier()\n",
    "xgb_model.fit(X_train, y_train)\n",
    "\n",
    "# Train CatBoost\n",
    "catboost_model = CatBoostClassifier()\n",
    "catboost_model.fit(X_train, y_train, verbose=False)\n",
    "\n",
    "# Predict and evaluate Logistic Regression\n",
    "y_pred_log_reg = log_reg.predict(X_test)\n",
    "accuracy_log_reg = accuracy_score(y_test, y_pred_log_reg)\n",
    "\n",
    "# Predict and evaluate KNN\n",
    "y_pred_knn = knn.predict(X_test)\n",
    "accuracy_knn = accuracy_score(y_test, y_pred_knn)\n",
    "\n",
    "# Predict and evaluate XGBoost\n",
    "y_pred_xgb = xgb_model.predict(X_test)\n",
    "accuracy_xgb = accuracy_score(y_test, y_pred_xgb)\n",
    "\n",
    "# Predict and evaluate CatBoost\n",
    "y_pred_catboost = catboost_model.predict(X_test)\n",
    "accuracy_catboost = accuracy_score(y_test, y_pred_catboost)\n",
    "\n",
    "print(f\"Logistic Regression Accuracy: {accuracy_log_reg}\")\n",
    "print(f\"KNN Accuracy: {accuracy_knn}\")\n",
    "print(f\"XGBoost Accuracy: {accuracy_xgb}\")\n",
    "print(f\"CatBoost Accuracy: {accuracy_catboost}\")\n"
   ]
  },
  {
   "cell_type": "code",
   "execution_count": 44,
   "id": "1e1b4aef-7049-40f0-bb81-40025da3ccb7",
   "metadata": {},
   "outputs": [
    {
     "name": "stdout",
     "output_type": "stream",
     "text": [
      "Logistic Regression Accuracy (No Regularization): 0.7816411682892906\n",
      "Logistic Regression Accuracy (L2 Regularization): 0.7851182197496523\n"
     ]
    }
   ],
   "source": [
    "from sklearn.model_selection import train_test_split\n",
    "from sklearn.preprocessing import MinMaxScaler\n",
    "from sklearn.linear_model import LogisticRegression\n",
    "from sklearn.metrics import accuracy_score\n",
    "\n",
    "# Split the augmented data into training and testing sets\n",
    "X_train, X_test, y_train, y_test = train_test_split(augmented_images, augmented_labels, test_size=0.2, random_state=42)\n",
    "\n",
    "# Normalize the features using Min-Max scaling\n",
    "scaler = MinMaxScaler()\n",
    "X_train_normalized = scaler.fit_transform(X_train)\n",
    "X_test_normalized = scaler.transform(X_test)\n",
    "\n",
    "# Train Logistic Regression without regularization\n",
    "log_reg = LogisticRegression(max_iter=4000, random_state=42)\n",
    "log_reg.fit(X_train_normalized, y_train)\n",
    "\n",
    "# Train Logistic Regression with L2 regularization (Ridge)\n",
    "log_reg_reg = LogisticRegression(C=1.5, penalty='l2', max_iter=4000, random_state=42)\n",
    "log_reg_reg.fit(X_train_normalized, y_train)\n",
    "\n",
    "# Predict and evaluate Logistic Regression without regularization\n",
    "y_pred_log_reg = log_reg.predict(X_test_normalized)\n",
    "accuracy_log_reg = accuracy_score(y_test, y_pred_log_reg)\n",
    "\n",
    "# Predict and evaluate Logistic Regression with L2 regularization\n",
    "y_pred_log_reg_reg = log_reg_reg.predict(X_test_normalized)\n",
    "accuracy_log_reg_reg = accuracy_score(y_test, y_pred_log_reg_reg)\n",
    "\n",
    "print(f\"Logistic Regression Accuracy (No Regularization): {accuracy_log_reg}\")\n",
    "print(f\"Logistic Regression Accuracy (L2 Regularization): {accuracy_log_reg_reg}\")\n"
   ]
  },
  {
   "cell_type": "code",
   "execution_count": null,
   "id": "cc8a9990-383d-409f-8d0e-9fb4533a46d4",
   "metadata": {},
   "outputs": [],
   "source": []
  }
 ],
 "metadata": {
  "kernelspec": {
   "display_name": "Python 3 (ipykernel)",
   "language": "python",
   "name": "python3"
  },
  "language_info": {
   "codemirror_mode": {
    "name": "ipython",
    "version": 3
   },
   "file_extension": ".py",
   "mimetype": "text/x-python",
   "name": "python",
   "nbconvert_exporter": "python",
   "pygments_lexer": "ipython3",
   "version": "3.10.13"
  }
 },
 "nbformat": 4,
 "nbformat_minor": 5
}
